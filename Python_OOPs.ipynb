{
  "nbformat": 4,
  "nbformat_minor": 0,
  "metadata": {
    "colab": {
      "provenance": []
    },
    "kernelspec": {
      "name": "python3",
      "display_name": "Python 3"
    },
    "language_info": {
      "name": "python"
    }
  },
  "cells": [
    {
      "cell_type": "markdown",
      "source": [
        "#Python OOPs\n"
      ],
      "metadata": {
        "id": "jbY6q_tZXQoY"
      }
    },
    {
      "cell_type": "markdown",
      "source": [
        "1. What is Object-Oriented Programming (OOP)?\n",
        "  - Object-Oriented Programming (OOP) is a programming paradigm based on the concept of objects, which contain data (attributes) and methods (functions). It allows modular and reusable code. The main principles of OOP are Encapsulation, Abstraction, Inheritance, and Polymorphism."
      ],
      "metadata": {
        "id": "1n8dg_-yXU8w"
      }
    },
    {
      "cell_type": "markdown",
      "source": [
        "2. What is a class in OOP?\n",
        "  - A class is a blueprint for creating objects. It defines attributes (variables) and methods (functions) that describe the behavior of objects. Example:"
      ],
      "metadata": {
        "id": "ApbnCrwhXY1w"
      }
    },
    {
      "cell_type": "code",
      "source": [
        "class Car:\n",
        "    def __init__(self, brand, model):\n",
        "        self.brand = brand\n",
        "        self.model = model\n"
      ],
      "metadata": {
        "id": "FQinLl_CXcA4"
      },
      "execution_count": null,
      "outputs": []
    },
    {
      "cell_type": "markdown",
      "source": [
        "3. What is an object in OOP?\n",
        "  - An object is an instance of a class. It has its own unique values for the attributes defined in the class. Example:"
      ],
      "metadata": {
        "id": "7Ie7oBOgXitR"
      }
    },
    {
      "cell_type": "code",
      "source": [
        "my_car = Car(\"Toyota\", \"Corolla\")\n",
        "print(my_car.brand)  # Output: Toyota"
      ],
      "metadata": {
        "colab": {
          "base_uri": "https://localhost:8080/"
        },
        "id": "Ci5lOFZGXlzo",
        "outputId": "f0a9c55a-9ac5-48bd-bff8-8d0695e0cd82"
      },
      "execution_count": null,
      "outputs": [
        {
          "output_type": "stream",
          "name": "stdout",
          "text": [
            "Toyota\n"
          ]
        }
      ]
    },
    {
      "cell_type": "markdown",
      "source": [
        "4. What is the difference between abstraction and encapsulation?\n",
        "  - Abstraction hides unnecessary details\n",
        "  - Protects data from unauthorized access\n",
        "\n",
        "  - Achieved using abstract classes/interfaces\n",
        "  - Achieved using private/protected members\n",
        "\n",
        "  - ABC module in Python\n",
        "  - Private variables using"
      ],
      "metadata": {
        "id": "bcNWwdk0Xnro"
      }
    },
    {
      "cell_type": "markdown",
      "source": [
        "5. What are dunder methods in Python?\n",
        "  - Dunder (Double Underscore) methods, also known as magic methods, are special methods in Python that start and end with double underscores (__). Examples:\n",
        "\n",
        "__init__ → Constructor\n",
        "__str__ → String representation\n",
        "__add__ → Operator overloading"
      ],
      "metadata": {
        "id": "ulfVdArxYZQw"
      }
    },
    {
      "cell_type": "code",
      "source": [
        "#Example\n",
        "class Example:\n",
        "    def __init__(self, value):\n",
        "        self.value = value\n",
        "\n",
        "    def __str__(self):\n",
        "        return f\"Value: {self.value}\"\n"
      ],
      "metadata": {
        "id": "34nIm1zjYoYH"
      },
      "execution_count": null,
      "outputs": []
    },
    {
      "cell_type": "markdown",
      "source": [
        "6. Explain the concept of inheritance in OOP.\n",
        "  - Inheritance allows a class to acquire properties and behaviors from another class. It promotes code reusability."
      ],
      "metadata": {
        "id": "DdrAEKPYYqZv"
      }
    },
    {
      "cell_type": "code",
      "source": [
        "#Example\n",
        "class Animal:\n",
        "    def speak(self):\n",
        "        return \"Animal makes a sound\"\n",
        "\n",
        "class Dog(Animal):\n",
        "    def speak(self):\n",
        "        return \"Bark!\"\n"
      ],
      "metadata": {
        "id": "_sKASdEOYyw_"
      },
      "execution_count": null,
      "outputs": []
    },
    {
      "cell_type": "markdown",
      "source": [
        "7. What is polymorphism in OOP?\n",
        "  - Polymorphism means one interface, multiple implementations. It allows different classes to define the same method in different ways."
      ],
      "metadata": {
        "id": "b7TlJn-zY05f"
      }
    },
    {
      "cell_type": "code",
      "source": [
        "#Example\n",
        "class Bird:\n",
        "    def fly(self):\n",
        "        return \"Flying\"\n",
        "\n",
        "class Sparrow(Bird):\n",
        "    def fly(self):\n",
        "        return \"Sparrow flies low\"\n",
        "\n",
        "class Eagle(Bird):\n",
        "    def fly(self):\n",
        "        return \"Eagle flies high\"\n"
      ],
      "metadata": {
        "id": "L7Md2X0FY6-n"
      },
      "execution_count": null,
      "outputs": []
    },
    {
      "cell_type": "markdown",
      "source": [
        "8. How is encapsulation achieved in Python?\n",
        "Encapsulation is achieved using private (__) and protected (_) attributes."
      ],
      "metadata": {
        "id": "6NLkHvB6Y_EP"
      }
    },
    {
      "cell_type": "code",
      "source": [
        "#Example\n",
        "class BankAccount:\n",
        "    def __init__(self, balance):\n",
        "        self.__balance = balance  # Private attribute\n",
        "\n",
        "    def get_balance(self):\n",
        "        return self.__balance  # Getter method\n"
      ],
      "metadata": {
        "id": "58PHQXQmZPc3"
      },
      "execution_count": null,
      "outputs": []
    },
    {
      "cell_type": "markdown",
      "source": [
        "9. What is a constructor in Python?\n",
        "  - A constructor (__init__) is a special method that initializes an object’s attributes."
      ],
      "metadata": {
        "id": "8Ct2yHKpZUWf"
      }
    },
    {
      "cell_type": "code",
      "source": [
        "#Example\n",
        "class Car:\n",
        "    def __init__(self, brand):\n",
        "        self.brand = brand\n"
      ],
      "metadata": {
        "id": "Bk8q0ELMZ-j_"
      },
      "execution_count": null,
      "outputs": []
    },
    {
      "cell_type": "markdown",
      "source": [
        "10. What are class and static methods in Python?\n",
        "  - Class Method ;\tWorks with the class itself\t;@classmethod\n",
        "\n",
        " - Static Method\tWorks independently of class and instance\t@staticmethod"
      ],
      "metadata": {
        "id": "1OAXlYkmaTB3"
      }
    },
    {
      "cell_type": "code",
      "source": [
        "#Example\n",
        "class MyClass:\n",
        "    class_variable = \"Class Variable\"\n",
        "\n",
        "    @classmethod\n",
        "    def class_method(cls):\n",
        "        return cls.class_variable\n",
        "\n",
        "    @staticmethod\n",
        "    def static_method():\n",
        "        return \"Static method\"\n"
      ],
      "metadata": {
        "id": "j7rZkmW7a7x_"
      },
      "execution_count": null,
      "outputs": []
    },
    {
      "cell_type": "markdown",
      "source": [
        "11. What is method overloading in Python?\n",
        "Python does not support true method overloading. Instead, we use default arguments."
      ],
      "metadata": {
        "id": "ohZZS7ZYbDb3"
      }
    },
    {
      "cell_type": "code",
      "source": [
        "#Example\n",
        "class Math:\n",
        "    def add(self, a, b, c=0):\n",
        "        return a + b + c\n",
        "\n",
        "m = Math()\n",
        "print(m.add(2, 3))  # Output: 5\n",
        "print(m.add(2, 3, 4))  # Output: 9\n"
      ],
      "metadata": {
        "colab": {
          "base_uri": "https://localhost:8080/"
        },
        "id": "-ywKs_4obG5e",
        "outputId": "dcf0ab54-b175-43d2-8fec-8fd42a53b280"
      },
      "execution_count": null,
      "outputs": [
        {
          "output_type": "stream",
          "name": "stdout",
          "text": [
            "5\n",
            "9\n"
          ]
        }
      ]
    },
    {
      "cell_type": "markdown",
      "source": [
        "12. What is method overriding in OOP?\n",
        "Method overriding allows a subclass to provide a specific implementation of a method from the parent class."
      ],
      "metadata": {
        "id": "vqCtwxqAbKIu"
      }
    },
    {
      "cell_type": "code",
      "source": [
        "#Example\n",
        "class Parent:\n",
        "    def show(self):\n",
        "        return \"Parent class\"\n",
        "\n",
        "class Child(Parent):\n",
        "    def show(self):\n",
        "        return \"Child class\"\n"
      ],
      "metadata": {
        "id": "fw0isjZ1bL1f"
      },
      "execution_count": null,
      "outputs": []
    },
    {
      "cell_type": "markdown",
      "source": [
        "13. What is a property decorator in Python?\n",
        "The @property decorator allows a method to be accessed like an attribute."
      ],
      "metadata": {
        "id": "N35xh57DbWWf"
      }
    },
    {
      "cell_type": "code",
      "source": [
        "#Example\n",
        "class Person:\n",
        "    def __init__(self, name):\n",
        "        self._name = name\n",
        "\n",
        "    @property\n",
        "    def name(self):\n",
        "        return self._name\n"
      ],
      "metadata": {
        "id": "lZCvH4Q4bY73"
      },
      "execution_count": null,
      "outputs": []
    },
    {
      "cell_type": "markdown",
      "source": [
        "14. Why is polymorphism important in OOP?\n",
        "  - Code reusability\n",
        "  - Flexibility\n",
        "  - Easier maintenance"
      ],
      "metadata": {
        "id": "yaCzdmRdb3ZO"
      }
    },
    {
      "cell_type": "code",
      "source": [
        "def animal_sound(animal):\n",
        "    return animal.speak()\n",
        "#Different animal classes can implement speak() differently."
      ],
      "metadata": {
        "id": "hNfFprJPb7YX"
      },
      "execution_count": null,
      "outputs": []
    },
    {
      "cell_type": "markdown",
      "source": [
        "15. What is an abstract class in Python?\n",
        "  - An abstract class is a class that cannot be instantiated and must be subclassed."
      ],
      "metadata": {
        "id": "t_U4CKYpb_L-"
      }
    },
    {
      "cell_type": "code",
      "source": [
        "#Example\n",
        "from abc import ABC, abstractmethod\n",
        "\n",
        "class Animal(ABC):\n",
        "    @abstractmethod\n",
        "    def speak(self):\n",
        "        pass\n"
      ],
      "metadata": {
        "id": "UXzlJpmFcDzf"
      },
      "execution_count": null,
      "outputs": []
    },
    {
      "cell_type": "markdown",
      "source": [
        "16. What are the advantages of OOP?\n",
        "  1.Code Reusability\n",
        "  2.Encapsulation (Data Hiding)\n",
        "  3.Modularity\n",
        "  4.Polymorphism\n",
        "  5.Easy Maintenance"
      ],
      "metadata": {
        "id": "Mhv6pFHicaz2"
      }
    },
    {
      "cell_type": "markdown",
      "source": [
        "17. What is the difference between a class variable and an instance variable?\n",
        "  -  Class Variable ;\tShared among all objects\t;class_variable\n",
        "  - Instance Variable ; Unique to each object ;\tself.instance_variable"
      ],
      "metadata": {
        "id": "OSAAThaGckQu"
      }
    },
    {
      "cell_type": "markdown",
      "source": [
        "18. What is multiple inheritance in Python?\n",
        " - Multiple inheritance allows a class to inherit from multiple parent classes."
      ],
      "metadata": {
        "id": "AWVSY0t0c9Pt"
      }
    },
    {
      "cell_type": "code",
      "source": [
        "#Example\n",
        "class A:\n",
        "    def method_A(self):\n",
        "        return \"A\"\n",
        "\n",
        "class B:\n",
        "    def method_B(self):\n",
        "        return \"B\"\n",
        "\n",
        "class C(A, B):\n",
        "    pass\n"
      ],
      "metadata": {
        "id": "ZFeSo9RvdIRO"
      },
      "execution_count": null,
      "outputs": []
    },
    {
      "cell_type": "markdown",
      "source": [
        "19. Explain the purpose of __str__ and __repr__ methods in Python.\n",
        "  - __str__() → Used for user-friendly string representation\n",
        "  - __repr__() → Used for developer-friendly representation"
      ],
      "metadata": {
        "id": "l-BjqeQxdMVm"
      }
    },
    {
      "cell_type": "code",
      "source": [
        "#Example\n",
        "class Example:\n",
        "    def __str__(self):\n",
        "        return \"This is __str__\"\n",
        "\n",
        "    def __repr__(self):\n",
        "        return \"This is __repr__\"\n"
      ],
      "metadata": {
        "id": "pEVXExZkdRje"
      },
      "execution_count": null,
      "outputs": []
    },
    {
      "cell_type": "markdown",
      "source": [
        "20. What is the significance of the super() function in Python?\n",
        "  - super() is used to call methods from the parent class."
      ],
      "metadata": {
        "id": "7Xd3NJMudmkO"
      }
    },
    {
      "cell_type": "code",
      "source": [
        "#Example\n",
        "class Parent:\n",
        "    def show(self):\n",
        "        return \"Parent\"\n",
        "\n",
        "class Child(Parent):\n",
        "    def show(self):\n",
        "        return super().show() + \" -> Child\"\n"
      ],
      "metadata": {
        "id": "5YUMEXRSdovO"
      },
      "execution_count": null,
      "outputs": []
    },
    {
      "cell_type": "markdown",
      "source": [
        "21. What is the significance of the __del__ method in Python?\n",
        "  - The __del__ method is called when an object is deleted or garbage collected."
      ],
      "metadata": {
        "id": "MjZEVjdgdr--"
      }
    },
    {
      "cell_type": "markdown",
      "source": [
        "22. What is the difference between @staticmethod and @classmethod?\n",
        "  - @staticmethod → No cls parameter, independent method\n",
        "  - @classmethod → Takes cls as the first parameter"
      ],
      "metadata": {
        "id": "GtDICW67dvJ2"
      }
    },
    {
      "cell_type": "markdown",
      "source": [
        "23. How does polymorphism work in Python with inheritance?\n",
        "  - Polymorphism allows different child classes to provide their own implementations of a method inherited from a parent class."
      ],
      "metadata": {
        "id": "TWgT4txpfG6t"
      }
    },
    {
      "cell_type": "code",
      "source": [
        "#Example\n",
        "class Animal:\n",
        "    def make_sound(self):\n",
        "        return \"Animal makes a sound\"\n",
        "\n",
        "class Dog(Animal):\n",
        "    def make_sound(self):\n",
        "        return \"Bark!\"\n",
        "\n",
        "class Cat(Animal):\n",
        "    def make_sound(self):\n",
        "        return \"Meow!\"\n",
        "\n",
        "# Polymorphism in action\n",
        "animals = [Dog(), Cat()]\n",
        "for animal in animals:\n",
        "    print(animal.make_sound())  # Outputs: Bark! Meow!\n"
      ],
      "metadata": {
        "colab": {
          "base_uri": "https://localhost:8080/"
        },
        "id": "3Oo8ZPelfM6l",
        "outputId": "95e1fc14-4546-405a-d280-0d3946d3bfb4"
      },
      "execution_count": null,
      "outputs": [
        {
          "output_type": "stream",
          "name": "stdout",
          "text": [
            "Bark!\n",
            "Meow!\n"
          ]
        }
      ]
    },
    {
      "cell_type": "markdown",
      "source": [
        "24. What is method chaining in Python OOP?\n",
        "  - Method chaining is a technique where multiple methods are called sequentially on the same object, improving code readability."
      ],
      "metadata": {
        "id": "brN6A49yfS1F"
      }
    },
    {
      "cell_type": "code",
      "source": [
        "#Example\n",
        "class MathOperations:\n",
        "    def __init__(self, value):\n",
        "        self.value = value\n",
        "\n",
        "    def add(self, num):\n",
        "        self.value += num\n",
        "        return self  # Returning self allows chaining\n",
        "\n",
        "    def multiply(self, num):\n",
        "        self.value *= num\n",
        "        return self\n",
        "\n",
        "# Method chaining\n",
        "result = MathOperations(5).add(3).multiply(2).value\n",
        "print(result)  # Output: 16\n"
      ],
      "metadata": {
        "colab": {
          "base_uri": "https://localhost:8080/"
        },
        "id": "5J7VOek2fXFl",
        "outputId": "a880da9a-7420-4006-90b5-8539063779bd"
      },
      "execution_count": null,
      "outputs": [
        {
          "output_type": "stream",
          "name": "stdout",
          "text": [
            "16\n"
          ]
        }
      ]
    },
    {
      "cell_type": "markdown",
      "source": [
        "25. What is the purpose of the __call__ method in Python?\n",
        "  - The __call__ method allows an instance of a class to be called like a function."
      ],
      "metadata": {
        "id": "ypHZw6o3f7kF"
      }
    },
    {
      "cell_type": "code",
      "source": [
        "#Example\n",
        "class Multiplier:\n",
        "    def __init__(self, factor):\n",
        "        self.factor = factor\n",
        "\n",
        "    def __call__(self, num):\n",
        "        return num * self.factor\n",
        "\n",
        "double = Multiplier(2)\n",
        "print(double(5))  # Output: 10\n"
      ],
      "metadata": {
        "id": "KkDeJ2iqf-wV",
        "outputId": "ed641943-424a-431a-e0de-e65328f322df",
        "colab": {
          "base_uri": "https://localhost:8080/"
        }
      },
      "execution_count": null,
      "outputs": [
        {
          "output_type": "stream",
          "name": "stdout",
          "text": [
            "10\n"
          ]
        }
      ]
    },
    {
      "cell_type": "markdown",
      "source": [
        "#Practical Question\n"
      ],
      "metadata": {
        "id": "bczN_gPmc8P0"
      }
    },
    {
      "cell_type": "markdown",
      "source": [
        "1. Create a parent class Animal with a method speak() that prints a generic message. Create a child class Dog that overrides the speak() method to print \"Bark!\"."
      ],
      "metadata": {
        "id": "FAdJUV8KdFJj"
      }
    },
    {
      "cell_type": "code",
      "source": [
        "class Animal:\n",
        "    def speak(self):\n",
        "        print(\"Animal makes a sound\")\n",
        "\n",
        "class Dog(Animal):\n",
        "    def speak(self):\n",
        "        print(\"Bark!\")\n",
        "\n",
        "dog = Dog()\n",
        "dog.speak()\n"
      ],
      "metadata": {
        "colab": {
          "base_uri": "https://localhost:8080/"
        },
        "id": "5ykduTuUdHeM",
        "outputId": "e274f4dd-54a7-4d9f-f9a2-52993c40f241"
      },
      "execution_count": 1,
      "outputs": [
        {
          "output_type": "stream",
          "name": "stdout",
          "text": [
            "Bark!\n"
          ]
        }
      ]
    },
    {
      "cell_type": "markdown",
      "source": [
        "2. Write a program to create an abstract class Shape with a method area(). Derive classes Circle and Rectangle from it and implement the area() method in both."
      ],
      "metadata": {
        "id": "_YfjkfqSdMUb"
      }
    },
    {
      "cell_type": "code",
      "source": [
        "from abc import ABC, abstractmethod\n",
        "\n",
        "class Shape(ABC):\n",
        "    @abstractmethod\n",
        "    def area(self):\n",
        "        pass\n",
        "\n",
        "class Circle(Shape):\n",
        "    def __init__(self, radius):\n",
        "        self.radius = radius\n",
        "\n",
        "    def area(self):\n",
        "        return 3.14 * self.radius * self.radius\n",
        "\n",
        "class Rectangle(Shape):\n",
        "    def __init__(self, length, width):\n",
        "        self.length = length\n",
        "        self.width = width\n",
        "\n",
        "    def area(self):\n",
        "        return self.length * self.width\n",
        "\n",
        "c = Circle(5)\n",
        "r = Rectangle(4, 6)\n",
        "print(\"Circle Area:\", c.area())\n",
        "print(\"Rectangle Area:\", r.area())\n"
      ],
      "metadata": {
        "colab": {
          "base_uri": "https://localhost:8080/"
        },
        "id": "t3CwFgundNbM",
        "outputId": "c470e6a6-8cdd-4913-f3e1-0a9247c0134f"
      },
      "execution_count": 2,
      "outputs": [
        {
          "output_type": "stream",
          "name": "stdout",
          "text": [
            "Circle Area: 78.5\n",
            "Rectangle Area: 24\n"
          ]
        }
      ]
    },
    {
      "cell_type": "markdown",
      "source": [
        "3. Implement multi-level inheritance: Vehicle → Car → ElectricCar, adding a battery attribute in ElectricCar."
      ],
      "metadata": {
        "id": "98HM47pMdQo7"
      }
    },
    {
      "cell_type": "code",
      "source": [
        "class Vehicle:\n",
        "    def __init__(self):\n",
        "        self.type = \"General Vehicle\"\n",
        "\n",
        "class Car(Vehicle):\n",
        "    def __init__(self, brand):\n",
        "        super().__init__()\n",
        "        self.brand = brand\n",
        "\n",
        "class ElectricCar(Car):\n",
        "    def __init__(self, brand, battery):\n",
        "        super().__init__(brand)\n",
        "        self.battery = battery\n",
        "\n",
        "    def display(self):\n",
        "        print(f\"Type: {self.type}, Brand: {self.brand}, Battery: {self.battery} kWh\")\n",
        "\n",
        "e_car = ElectricCar(\"Tesla\", 75)\n",
        "e_car.display()\n"
      ],
      "metadata": {
        "colab": {
          "base_uri": "https://localhost:8080/"
        },
        "id": "B_F2FRmwdSC7",
        "outputId": "4f48b633-be18-4698-954b-c37fce9d86fb"
      },
      "execution_count": 3,
      "outputs": [
        {
          "output_type": "stream",
          "name": "stdout",
          "text": [
            "Type: General Vehicle, Brand: Tesla, Battery: 75 kWh\n"
          ]
        }
      ]
    },
    {
      "cell_type": "markdown",
      "source": [
        "4. Demonstrate polymorphism with base class Bird and derived classes Sparrow and Penguin, overriding fly() method.\n",
        "python\n",
        "Copy\n",
        "Edit\n"
      ],
      "metadata": {
        "id": "DzVZbYKpdTar"
      }
    },
    {
      "cell_type": "code",
      "source": [
        "class Bird:\n",
        "    def fly(self):\n",
        "        print(\"Bird is flying\")\n",
        "\n",
        "class Sparrow(Bird):\n",
        "    def fly(self):\n",
        "        print(\"Sparrow flies high\")\n",
        "\n",
        "class Penguin(Bird):\n",
        "    def fly(self):\n",
        "        print(\"Penguins cannot fly\")\n",
        "\n",
        "birds = [Sparrow(), Penguin()]\n",
        "for bird in birds:\n",
        "    bird.fly()\n"
      ],
      "metadata": {
        "colab": {
          "base_uri": "https://localhost:8080/"
        },
        "id": "5bOhogC6dUmD",
        "outputId": "39896e6c-f9c2-4d31-b347-1ae3d3c4085f"
      },
      "execution_count": 4,
      "outputs": [
        {
          "output_type": "stream",
          "name": "stdout",
          "text": [
            "Sparrow flies high\n",
            "Penguins cannot fly\n"
          ]
        }
      ]
    },
    {
      "cell_type": "markdown",
      "source": [
        "5. Encapsulation: Create BankAccount class with private balance and deposit, withdraw, check balance methods."
      ],
      "metadata": {
        "id": "ZXQYIusmdXkU"
      }
    },
    {
      "cell_type": "code",
      "source": [
        "class BankAccount:\n",
        "    def __init__(self, balance):\n",
        "        self.__balance = balance\n",
        "\n",
        "    def deposit(self, amount):\n",
        "        if amount > 0:\n",
        "            self.__balance += amount\n",
        "\n",
        "    def withdraw(self, amount):\n",
        "        if amount > 0 and amount <= self.__balance:\n",
        "            self.__balance -= amount\n",
        "        else:\n",
        "            print(\"Insufficient funds\")\n",
        "\n",
        "    def get_balance(self):\n",
        "        return self.__balance\n",
        "\n",
        "# Testing\n",
        "account = BankAccount(5000)\n",
        "account.deposit(1500)\n",
        "account.withdraw(2000)\n",
        "print(\"Balance:\", account.get_balance())\n"
      ],
      "metadata": {
        "colab": {
          "base_uri": "https://localhost:8080/"
        },
        "id": "N7ObXIwsdanr",
        "outputId": "4e65741b-edc6-4f0f-dffb-0204406eee38"
      },
      "execution_count": 5,
      "outputs": [
        {
          "output_type": "stream",
          "name": "stdout",
          "text": [
            "Balance: 4500\n"
          ]
        }
      ]
    },
    {
      "cell_type": "markdown",
      "source": [
        "6. Runtime Polymorphism: Base class Instrument with method play(). Derived classes Guitar and Piano."
      ],
      "metadata": {
        "id": "RXgfVEdudcoM"
      }
    },
    {
      "cell_type": "code",
      "source": [
        "class Instrument:\n",
        "    def play(self):\n",
        "        print(\"Instrument is playing\")\n",
        "\n",
        "class Guitar(Instrument):\n",
        "    def play(self):\n",
        "        print(\"Guitar is playing\")\n",
        "\n",
        "class Piano(Instrument):\n",
        "    def play(self):\n",
        "        print(\"Piano is playing\")\n",
        "\n",
        "instruments = [Guitar(), Piano()]\n",
        "for instrument in instruments:\n",
        "    instrument.play()\n"
      ],
      "metadata": {
        "colab": {
          "base_uri": "https://localhost:8080/"
        },
        "id": "W1-n4M9Idd3b",
        "outputId": "f383683f-0fda-4cd7-801d-d09cec699849"
      },
      "execution_count": 6,
      "outputs": [
        {
          "output_type": "stream",
          "name": "stdout",
          "text": [
            "Guitar is playing\n",
            "Piano is playing\n"
          ]
        }
      ]
    },
    {
      "cell_type": "markdown",
      "source": [
        "7. Create MathOperations class with class method add_numbers() and static method subtract_numbers()."
      ],
      "metadata": {
        "id": "Epe7Mmkudh2L"
      }
    },
    {
      "cell_type": "code",
      "source": [
        "class MathOperations:\n",
        "    @classmethod\n",
        "    def add_numbers(cls, a, b):\n",
        "        return a + b\n",
        "\n",
        "    @staticmethod\n",
        "    def subtract_numbers(a, b):\n",
        "        return a - b\n",
        "\n",
        "print(MathOperations.add_numbers(10, 5))\n",
        "print(MathOperations.subtract_numbers(10, 5))\n"
      ],
      "metadata": {
        "colab": {
          "base_uri": "https://localhost:8080/"
        },
        "id": "vGvcNdz9djbj",
        "outputId": "319a44bf-98a1-4056-cfa8-18091fc893ea"
      },
      "execution_count": 7,
      "outputs": [
        {
          "output_type": "stream",
          "name": "stdout",
          "text": [
            "15\n",
            "5\n"
          ]
        }
      ]
    },
    {
      "cell_type": "markdown",
      "source": [
        "8. Implement Person class with class method counting total persons created."
      ],
      "metadata": {
        "id": "U85Iz59ndljr"
      }
    },
    {
      "cell_type": "code",
      "source": [
        "class Person:\n",
        "    count = 0\n",
        "\n",
        "    def __init__(self):\n",
        "        Person.count += 1\n",
        "\n",
        "    @classmethod\n",
        "    def get_count(cls):\n",
        "        return cls.count\n",
        "\n",
        "p1 = Person()\n",
        "p2 = Person()\n",
        "print(\"Total Persons:\", Person.get_count())\n"
      ],
      "metadata": {
        "colab": {
          "base_uri": "https://localhost:8080/"
        },
        "id": "6s00Ik6qdmit",
        "outputId": "a3c2b8aa-0d9d-49a8-b266-b227e0f888a0"
      },
      "execution_count": 8,
      "outputs": [
        {
          "output_type": "stream",
          "name": "stdout",
          "text": [
            "Total Persons: 2\n"
          ]
        }
      ]
    },
    {
      "cell_type": "markdown",
      "source": [
        "9. Fraction class with numerator, denominator, override __str__ method to display \"numerator/denominator\"."
      ],
      "metadata": {
        "id": "NeyMLUNXdon9"
      }
    },
    {
      "cell_type": "code",
      "source": [
        "class Fraction:\n",
        "    def __init__(self, numerator, denominator):\n",
        "        self.numerator = numerator\n",
        "        self.denominator = denominator\n",
        "\n",
        "    def __str__(self):\n",
        "        return f\"{self.numerator}/{self.denominator}\"\n",
        "\n",
        "\n",
        "frac = Fraction(3, 4)\n",
        "print(frac)\n"
      ],
      "metadata": {
        "colab": {
          "base_uri": "https://localhost:8080/"
        },
        "id": "MuA89No5dp0D",
        "outputId": "eb82309e-30ce-41f9-ec78-083a952b7b69"
      },
      "execution_count": 9,
      "outputs": [
        {
          "output_type": "stream",
          "name": "stdout",
          "text": [
            "3/4\n"
          ]
        }
      ]
    },
    {
      "cell_type": "markdown",
      "source": [
        "10. Demonstrate operator overloading: Vector class, override __add__ to add two vectors."
      ],
      "metadata": {
        "id": "qdiUiyBSdrK8"
      }
    },
    {
      "cell_type": "code",
      "source": [
        "class Vector:\n",
        "    def __init__(self, x, y):\n",
        "        self.x = x\n",
        "        self.y = y\n",
        "\n",
        "    def __add__(self, other):\n",
        "        return Vector(self.x + other.x, self.y + other.y)\n",
        "\n",
        "    def __str__(self):\n",
        "        return f\"({self.x}, {self.y})\"\n",
        "\n",
        "\n",
        "v1 = Vector(1, 2)\n",
        "v2 = Vector(3, 4)\n",
        "result = v1 + v2\n",
        "print(result)\n"
      ],
      "metadata": {
        "colab": {
          "base_uri": "https://localhost:8080/"
        },
        "id": "bjB4xhhfdrpk",
        "outputId": "b0c2ae72-05ce-4bd5-e54a-448e82fded25"
      },
      "execution_count": 10,
      "outputs": [
        {
          "output_type": "stream",
          "name": "stdout",
          "text": [
            "(4, 6)\n"
          ]
        }
      ]
    },
    {
      "cell_type": "markdown",
      "source": [
        "11. Person class with name and age. Add greet() method."
      ],
      "metadata": {
        "id": "V2RAMDvudyCD"
      }
    },
    {
      "cell_type": "code",
      "source": [
        "class Person:\n",
        "    def __init__(self, name, age):\n",
        "        self.name = name\n",
        "        self.age = age\n",
        "\n",
        "    def greet(self):\n",
        "        print(f\"Hello, my name is {self.name} and I am {self.age} years old.\")\n",
        "\n",
        "p = Person(\"Alice\", 25)\n",
        "p.greet()\n"
      ],
      "metadata": {
        "colab": {
          "base_uri": "https://localhost:8080/"
        },
        "id": "nKzBYVN6dze8",
        "outputId": "7148b1f8-1180-41b8-aa58-2acf6f1943e3"
      },
      "execution_count": 11,
      "outputs": [
        {
          "output_type": "stream",
          "name": "stdout",
          "text": [
            "Hello, my name is Alice and I am 25 years old.\n"
          ]
        }
      ]
    },
    {
      "cell_type": "markdown",
      "source": [
        "12. Student class with name and grades. Create average_grade() method."
      ],
      "metadata": {
        "id": "4ND6BaIbd1cb"
      }
    },
    {
      "cell_type": "code",
      "source": [
        "class Student:\n",
        "    def __init__(self, name, grades):\n",
        "        self.name = name\n",
        "        self.grades = grades\n",
        "\n",
        "    def average_grade(self):\n",
        "        return sum(self.grades) / len(self.grades)\n",
        "\n",
        "s = Student(\"John\", [80, 90, 85])\n",
        "print(\"Average Grade:\", s.average_grade())\n"
      ],
      "metadata": {
        "colab": {
          "base_uri": "https://localhost:8080/"
        },
        "id": "AHxXgPYed22U",
        "outputId": "be21c9d8-aba2-4a8b-8c39-cadff050b463"
      },
      "execution_count": 12,
      "outputs": [
        {
          "output_type": "stream",
          "name": "stdout",
          "text": [
            "Average Grade: 85.0\n"
          ]
        }
      ]
    },
    {
      "cell_type": "markdown",
      "source": [
        "13. Rectangle class with set_dimensions() and area() methods."
      ],
      "metadata": {
        "id": "JWd3QK75d6Ls"
      }
    },
    {
      "cell_type": "code",
      "source": [
        "class Rectangle:\n",
        "    def set_dimensions(self, length, width):\n",
        "        self.length = length\n",
        "        self.width = width\n",
        "\n",
        "    def area(self):\n",
        "        return self.length * self.width\n",
        "\n",
        "rect = Rectangle()\n",
        "rect.set_dimensions(4, 5)\n",
        "print(\"Area:\", rect.area())\n"
      ],
      "metadata": {
        "colab": {
          "base_uri": "https://localhost:8080/"
        },
        "id": "4RPEzF_id7wl",
        "outputId": "89047ad8-5564-4a52-d23f-1dc90b11ea99"
      },
      "execution_count": 13,
      "outputs": [
        {
          "output_type": "stream",
          "name": "stdout",
          "text": [
            "Area: 20\n"
          ]
        }
      ]
    },
    {
      "cell_type": "markdown",
      "source": [
        "14. Employee class with calculate_salary(); derived Manager class adds bonus."
      ],
      "metadata": {
        "id": "ZdZIOHl3d99U"
      }
    },
    {
      "cell_type": "code",
      "source": [
        "class Employee:\n",
        "    def calculate_salary(self, hours, rate):\n",
        "        return hours * rate\n",
        "\n",
        "class Manager(Employee):\n",
        "    def calculate_salary(self, hours, rate, bonus):\n",
        "        return super().calculate_salary(hours, rate) + bonus\n",
        "\n",
        "emp = Employee()\n",
        "mgr = Manager()\n",
        "print(\"Employee Salary:\", emp.calculate_salary(40, 20))\n",
        "print(\"Manager Salary:\", mgr.calculate_salary(40, 20, 500))\n"
      ],
      "metadata": {
        "colab": {
          "base_uri": "https://localhost:8080/"
        },
        "id": "n7awaYDsd_Wn",
        "outputId": "b66aeaf9-261d-4f43-aca4-6b4dfefaee44"
      },
      "execution_count": 14,
      "outputs": [
        {
          "output_type": "stream",
          "name": "stdout",
          "text": [
            "Employee Salary: 800\n",
            "Manager Salary: 1300\n"
          ]
        }
      ]
    },
    {
      "cell_type": "markdown",
      "source": [
        "15. Product class with name, price, quantity. Implement total_price()."
      ],
      "metadata": {
        "id": "DnFDa3mZeCT7"
      }
    },
    {
      "cell_type": "code",
      "source": [
        "class Product:\n",
        "    def __init__(self, name, price, quantity):\n",
        "        self.name = name\n",
        "        self.price = price\n",
        "        self.quantity = quantity\n",
        "\n",
        "    def total_price(self):\n",
        "        return self.price * self.quantity\n",
        "\n",
        "product = Product(\"Laptop\", 50000, 2)\n",
        "print(\"Total Price:\", product.total_price())\n"
      ],
      "metadata": {
        "colab": {
          "base_uri": "https://localhost:8080/"
        },
        "id": "nhEQr5ameDe0",
        "outputId": "a420eb98-1530-44b2-90b6-31ec61ce52d7"
      },
      "execution_count": 15,
      "outputs": [
        {
          "output_type": "stream",
          "name": "stdout",
          "text": [
            "Total Price: 100000\n"
          ]
        }
      ]
    },
    {
      "cell_type": "markdown",
      "source": [
        "16. Animal class with abstract method sound(). Derived Cow and Sheep classes implement it."
      ],
      "metadata": {
        "id": "8XST0p4UeFJk"
      }
    },
    {
      "cell_type": "code",
      "source": [
        "from abc import ABC, abstractmethod\n",
        "\n",
        "class Animal(ABC):\n",
        "    @abstractmethod\n",
        "    def sound(self):\n",
        "        pass\n",
        "\n",
        "class Cow(Animal):\n",
        "    def sound(self):\n",
        "        print(\"Moo\")\n",
        "\n",
        "class Sheep(Animal):\n",
        "    def sound(self):\n",
        "        print(\"Baa\")\n",
        "\n",
        "c = Cow()\n",
        "s = Sheep()\n",
        "c.sound()\n",
        "s.sound()\n"
      ],
      "metadata": {
        "colab": {
          "base_uri": "https://localhost:8080/"
        },
        "id": "OKa9upATeGcc",
        "outputId": "b7233816-6f3a-4ceb-9d7f-0f05ffa8222e"
      },
      "execution_count": 16,
      "outputs": [
        {
          "output_type": "stream",
          "name": "stdout",
          "text": [
            "Moo\n",
            "Baa\n"
          ]
        }
      ]
    },
    {
      "cell_type": "markdown",
      "source": [
        "17. Book class with title, author, year_published, and get_book_info() method."
      ],
      "metadata": {
        "id": "a82ZT710eIl0"
      }
    },
    {
      "cell_type": "code",
      "source": [
        "class Book:\n",
        "    def __init__(self, title, author, year_published):\n",
        "        self.title = title\n",
        "        self.author = author\n",
        "        self.year_published = year_published\n",
        "\n",
        "    def get_book_info(self):\n",
        "        return f\"{self.title} by {self.author}, Published in {self.year_published}\"\n",
        "\n",
        "book = Book(\"1984\", \"George Orwell\", 1949)\n",
        "print(book.get_book_info())\n"
      ],
      "metadata": {
        "colab": {
          "base_uri": "https://localhost:8080/"
        },
        "id": "z2iWjgRHeJh0",
        "outputId": "d9dd8cb6-d292-44e5-bbe7-3c9e5b62505b"
      },
      "execution_count": 17,
      "outputs": [
        {
          "output_type": "stream",
          "name": "stdout",
          "text": [
            "1984 by George Orwell, Published in 1949\n"
          ]
        }
      ]
    },
    {
      "cell_type": "markdown",
      "source": [
        "18. House class with address, price. Derived class Mansion adds number_of_rooms."
      ],
      "metadata": {
        "id": "Sa6EhFfGeMJk"
      }
    },
    {
      "cell_type": "code",
      "source": [
        "class House:\n",
        "    def __init__(self, address, price):\n",
        "        self.address = address\n",
        "        self.price = price\n",
        "\n",
        "class Mansion(House):\n",
        "    def __init__(self, address, price, number_of_rooms):\n",
        "        super().__init__(address, price)\n",
        "        self.number_of_rooms = number_of_rooms\n",
        "\n",
        "    def display_info(self):\n",
        "        print(f\"Address: {self.address}, Price: {self.price}, Rooms: {self.number_of_rooms}\")\n",
        "\n",
        "mansion = Mansion(\"123 Rich St\", 10000000, 10)\n",
        "mansion.display_info()\n"
      ],
      "metadata": {
        "colab": {
          "base_uri": "https://localhost:8080/"
        },
        "id": "1YeXithFeNRk",
        "outputId": "bd097a98-5015-41d9-9f3d-d430e33cd96f"
      },
      "execution_count": 18,
      "outputs": [
        {
          "output_type": "stream",
          "name": "stdout",
          "text": [
            "Address: 123 Rich St, Price: 10000000, Rooms: 10\n"
          ]
        }
      ]
    }
  ]
}